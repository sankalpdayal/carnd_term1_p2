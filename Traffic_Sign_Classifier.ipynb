{
 "cells": [
  {
   "cell_type": "markdown",
   "metadata": {},
   "source": [
    "# Self-Driving Car Engineer Nanodegree\n",
    "\n",
    "## Deep Learning\n",
    "\n",
    "## Project: Build a Traffic Sign Recognition Classifier\n",
    "\n",
    "In this notebook, a template is provided for you to implement your functionality in stages, which is required to successfully complete this project. If additional code is required that cannot be included in the notebook, be sure that the Python code is successfully imported and included in your submission if necessary. \n",
    "\n",
    "> **Note**: Once you have completed all of the code implementations, you need to finalize your work by exporting the iPython Notebook as an HTML document. Before exporting the notebook to html, all of the code cells need to have been run so that reviewers can see the final implementation and output. You can then export the notebook by using the menu above and navigating to  \\n\",\n",
    "    \"**File -> Download as -> HTML (.html)**. Include the finished document along with this notebook as your submission. \n",
    "\n",
    "In addition to implementing code, there is a writeup to complete. The writeup should be completed in a separate file, which can be either a markdown file or a pdf document. There is a [write up template](https://github.com/udacity/CarND-Traffic-Sign-Classifier-Project/blob/master/writeup_template.md) that can be used to guide the writing process. Completing the code template and writeup template will cover all of the [rubric points](https://review.udacity.com/#!/rubrics/481/view) for this project.\n",
    "\n",
    "The [rubric](https://review.udacity.com/#!/rubrics/481/view) contains \"Stand Out Suggestions\" for enhancing the project beyond the minimum requirements. The stand out suggestions are optional. If you decide to pursue the \"stand out suggestions\", you can include the code in this Ipython notebook and also discuss the results in the writeup file.\n",
    "\n",
    "\n",
    ">**Note:** Code and Markdown cells can be executed using the **Shift + Enter** keyboard shortcut. In addition, Markdown cells can be edited by typically double-clicking the cell to enter edit mode."
   ]
  },
  {
   "cell_type": "markdown",
   "metadata": {},
   "source": [
    "---\n",
    "## Step 0: Load The Data"
   ]
  },
  {
   "cell_type": "code",
   "execution_count": 1,
   "metadata": {
    "collapsed": false
   },
   "outputs": [
    {
     "name": "stdout",
     "output_type": "stream",
     "text": [
      "(34799, 32, 32, 3)\n",
      "(34799,)\n"
     ]
    }
   ],
   "source": [
    "# Load pickled data\n",
    "import pickle\n",
    "\n",
    "# TODO: Fill this in based on where you saved the training and testing data\n",
    "\n",
    "training_file = 'traffic-signs-data/train.p'\n",
    "validation_file= 'traffic-signs-data/valid.p'\n",
    "testing_file = 'traffic-signs-data/test.p'\n",
    "\n",
    "with open(training_file, mode='rb') as f:\n",
    "    train = pickle.load(f)\n",
    "with open(validation_file, mode='rb') as f:\n",
    "    valid = pickle.load(f)\n",
    "with open(testing_file, mode='rb') as f:\n",
    "    test = pickle.load(f)\n",
    "    \n",
    "X_train_in, y_train = train['features'], train['labels']\n",
    "X_valid_in, y_valid = valid['features'], valid['labels']\n",
    "X_test_in, y_test = test['features'], test['labels']\n",
    "\n",
    "print(X_train_in.shape)\n",
    "print(y_train.shape)\n"
   ]
  },
  {
   "cell_type": "markdown",
   "metadata": {},
   "source": [
    "---\n",
    "\n",
    "## Step 1: Dataset Summary & Exploration\n",
    "\n",
    "The pickled data is a dictionary with 4 key/value pairs:\n",
    "\n",
    "- `'features'` is a 4D array containing raw pixel data of the traffic sign images, (num examples, width, height, channels).\n",
    "- `'labels'` is a 1D array containing the label/class id of the traffic sign. The file `signnames.csv` contains id -> name mappings for each id.\n",
    "- `'sizes'` is a list containing tuples, (width, height) representing the original width and height the image.\n",
    "- `'coords'` is a list containing tuples, (x1, y1, x2, y2) representing coordinates of a bounding box around the sign in the image. **THESE COORDINATES ASSUME THE ORIGINAL IMAGE. THE PICKLED DATA CONTAINS RESIZED VERSIONS (32 by 32) OF THESE IMAGES**\n",
    "\n",
    "Complete the basic data summary below. Use python, numpy and/or pandas methods to calculate the data summary rather than hard coding the results. For example, the [pandas shape method](http://pandas.pydata.org/pandas-docs/stable/generated/pandas.DataFrame.shape.html) might be useful for calculating some of the summary results. "
   ]
  },
  {
   "cell_type": "markdown",
   "metadata": {},
   "source": [
    "### Provide a Basic Summary of the Data Set Using Python, Numpy and/or Pandas"
   ]
  },
  {
   "cell_type": "code",
   "execution_count": 2,
   "metadata": {
    "collapsed": false
   },
   "outputs": [
    {
     "name": "stdout",
     "output_type": "stream",
     "text": [
      "Number of training examples = 34799\n",
      "Number of testing examples = 12630\n",
      "Image data shape = (32, 32)\n",
      "Number of classes = 43\n"
     ]
    }
   ],
   "source": [
    "### Replace each question mark with the appropriate value. \n",
    "### Use python, pandas or numpy methods rather than hard coding the results\n",
    "\n",
    "import numpy as np\n",
    "\n",
    "# TODO: Number of training examples\n",
    "n_train = train['features'].shape[0]\n",
    "\n",
    "# TODO: Number of validation examples\n",
    "n_validation = valid['features'].shape[0]\n",
    "\n",
    "# TODO: Number of testing examples.\n",
    "n_test = test['features'].shape[0]\n",
    "\n",
    "# TODO: What's the shape of an traffic sign image?\n",
    "image_shape = test['features'].shape[1:3]\n",
    "\n",
    "# TODO: How many unique classes/labels there are in the dataset.\n",
    "n_classes = len(np.unique(train['labels']))\n",
    "\n",
    "print(\"Number of training examples =\", n_train)\n",
    "print(\"Number of testing examples =\", n_test)\n",
    "print(\"Image data shape =\", image_shape)\n",
    "print(\"Number of classes =\", n_classes)"
   ]
  },
  {
   "cell_type": "markdown",
   "metadata": {},
   "source": [
    "### Include an exploratory visualization of the dataset"
   ]
  },
  {
   "cell_type": "markdown",
   "metadata": {},
   "source": [
    "Visualize the German Traffic Signs Dataset using the pickled file(s). This is open ended, suggestions include: plotting traffic sign images, plotting the count of each sign, etc. \n",
    "\n",
    "The [Matplotlib](http://matplotlib.org/) [examples](http://matplotlib.org/examples/index.html) and [gallery](http://matplotlib.org/gallery.html) pages are a great resource for doing visualizations in Python.\n",
    "\n",
    "**NOTE:** It's recommended you start with something simple first. If you wish to do more, come back to it after you've completed the rest of the sections. It can be interesting to look at the distribution of classes in the training, validation and test set. Is the distribution the same? Are there more examples of some classes than others?"
   ]
  },
  {
   "cell_type": "code",
   "execution_count": 3,
   "metadata": {
    "collapsed": false
   },
   "outputs": [
    {
     "ename": "NameError",
     "evalue": "name 'y_train_in' is not defined",
     "output_type": "error",
     "traceback": [
      "\u001b[0;31m---------------------------------------------------------------------------\u001b[0m",
      "\u001b[0;31mNameError\u001b[0m                                 Traceback (most recent call last)",
      "\u001b[0;32m<ipython-input-3-cb47747b4c52>\u001b[0m in \u001b[0;36m<module>\u001b[0;34m()\u001b[0m\n\u001b[1;32m     16\u001b[0m \u001b[0mplt\u001b[0m\u001b[1;33m.\u001b[0m\u001b[0mfigure\u001b[0m\u001b[1;33m(\u001b[0m\u001b[0mfigsize\u001b[0m\u001b[1;33m=\u001b[0m\u001b[1;33m(\u001b[0m\u001b[1;36m1\u001b[0m\u001b[1;33m,\u001b[0m\u001b[1;36m1\u001b[0m\u001b[1;33m)\u001b[0m\u001b[1;33m)\u001b[0m\u001b[1;33m\u001b[0m\u001b[0m\n\u001b[1;32m     17\u001b[0m \u001b[0mplt\u001b[0m\u001b[1;33m.\u001b[0m\u001b[0mimshow\u001b[0m\u001b[1;33m(\u001b[0m\u001b[0mimage\u001b[0m\u001b[1;33m)\u001b[0m\u001b[1;33m\u001b[0m\u001b[0m\n\u001b[0;32m---> 18\u001b[0;31m \u001b[0mprint\u001b[0m\u001b[1;33m(\u001b[0m\u001b[0mdata\u001b[0m\u001b[1;33m[\u001b[0m\u001b[0mdata\u001b[0m\u001b[1;33m[\u001b[0m\u001b[1;34m'ClassId'\u001b[0m\u001b[1;33m]\u001b[0m \u001b[1;33m==\u001b[0m \u001b[0my_train_in\u001b[0m\u001b[1;33m[\u001b[0m\u001b[0mindex\u001b[0m\u001b[1;33m]\u001b[0m\u001b[1;33m]\u001b[0m\u001b[1;33m)\u001b[0m\u001b[1;33m\u001b[0m\u001b[0m\n\u001b[0m",
      "\u001b[0;31mNameError\u001b[0m: name 'y_train_in' is not defined"
     ]
    },
    {
     "data": {
      "image/png": "[encoded data removed]",
      "text/plain": [
       "<matplotlib.figure.Figure at 0xa32fef0>"
      ]
     },
     "metadata": {},
     "output_type": "display_data"
    }
   ],
   "source": [
    "### Data exploration visualization code goes here.\n",
    "### Feel free to use as many code cells as needed.\n",
    "import random\n",
    "import pandas as pd\n",
    "import matplotlib.pyplot as plt\n",
    "import csv\n",
    "\n",
    "# Visualizations will be shown in the notebook.\n",
    "%matplotlib inline\n",
    "\n",
    "data=pd.read_csv('signnames.csv')\n",
    "\n",
    "index = random.randint(0, len(X_train_in))\n",
    "image = X_train_in[index].squeeze()\n",
    "\n",
    "plt.figure(figsize=(1,1))\n",
    "plt.imshow(image)\n",
    "print(data[data['ClassId'] == y_train_in[index]])"
   ]
  },
  {
   "cell_type": "markdown",
   "metadata": {},
   "source": [
    "----\n",
    "\n",
    "## Step 2: Design and Test a Model Architecture\n",
    "\n",
    "Design and implement a deep learning model that learns to recognize traffic signs. Train and test your model on the [German Traffic Sign Dataset](http://benchmark.ini.rub.de/?section=gtsrb&subsection=dataset).\n",
    "\n",
    "The LeNet-5 implementation shown in the [classroom](https://classroom.udacity.com/nanodegrees/nd013/parts/fbf77062-5703-404e-b60c-95b78b2f3f9e/modules/6df7ae49-c61c-4bb2-a23e-6527e69209ec/lessons/601ae704-1035-4287-8b11-e2c2716217ad/concepts/d4aca031-508f-4e0b-b493-e7b706120f81) at the end of the CNN lesson is a solid starting point. You'll have to change the number of classes and possibly the preprocessing, but aside from that it's plug and play! \n",
    "\n",
    "With the LeNet-5 solution from the lecture, you should expect a validation set accuracy of about 0.89. To meet specifications, the validation set accuracy will need to be at least 0.93. It is possible to get an even higher accuracy, but 0.93 is the minimum for a successful project submission. \n",
    "\n",
    "There are various aspects to consider when thinking about this problem:\n",
    "\n",
    "- Neural network architecture (is the network over or underfitting?)\n",
    "- Play around preprocessing techniques (normalization, rgb to grayscale, etc)\n",
    "- Number of examples per label (some have more than others).\n",
    "- Generate fake data.\n",
    "\n",
    "Here is an example of a [published baseline model on this problem](http://yann.lecun.com/exdb/publis/pdf/sermanet-ijcnn-11.pdf). It's not required to be familiar with the approach used in the paper but, it's good practice to try to read papers like these."
   ]
  },
  {
   "cell_type": "markdown",
   "metadata": {},
   "source": [
    "### Pre-process the Data Set (normalization, grayscale, etc.)"
   ]
  },
  {
   "cell_type": "markdown",
   "metadata": {},
   "source": [
    "Minimally, the image data should be normalized so that the data has mean zero and equal variance. For image data, `(pixel - 128)/ 128` is a quick way to approximately normalize the data and can be used in this project. \n",
    "\n",
    "Other pre-processing steps are optional. You can try different techniques to see if it improves performance. \n",
    "\n",
    "Use the code cell (or multiple code cells, if necessary) to implement the first step of your project."
   ]
  },
  {
   "cell_type": "code",
   "execution_count": 4,
   "metadata": {
    "collapsed": false
   },
   "outputs": [],
   "source": [
    "import cv2\n",
    "\n",
    "def random_translate(img):\n",
    "    rows,cols,_ = img.shape\n",
    "    max_pix = 2\n",
    "    dx,dy = np.random.randint(-max_pix,max_pix,2)\n",
    "    Mask = np.float32([[1,0,dx],[0,1,dy]])\n",
    "    trans_img = cv2.warpAffine(img,Mask,(cols,rows))\n",
    "    trans_img = trans_img[:,:,np.newaxis]\n",
    "    return trans_img"
   ]
  },
  {
   "cell_type": "code",
   "execution_count": 5,
   "metadata": {
    "collapsed": true
   },
   "outputs": [],
   "source": [
    "def random_scaling(img):   \n",
    "    rows,cols,_ = img.shape\n",
    "    rand_pix = np.random.randint(-2,2)\n",
    "    # ending locations\n",
    "    end_pts = np.float32([[rand_pix,rand_pix],[rows-rand_pix,rand_pix],[rand_pix,cols-rand_pix],[rows-rand_pix,cols-rand_pix]])\n",
    "    # starting locations (4 corners)\n",
    "    start_pts = np.float32([[0,0],[rows,0],[0,cols],[rows,cols]])\n",
    "    Mask = cv2.getPerspectiveTransform(end_pts,start_pts)\n",
    "    scaled_img = cv2.warpPerspective(img,Mask,(rows,cols))\n",
    "    scaled_img = scaled_img[:,:,np.newaxis]\n",
    "    return scaled_img"
   ]
  },
  {
   "cell_type": "code",
   "execution_count": 6,
   "metadata": {
    "collapsed": true
   },
   "outputs": [],
   "source": [
    "def random_warp(img):\n",
    "    rows,cols,_ = img.shape\n",
    "    # random scaling coefficients\n",
    "    rndx = np.random.rand(3) - 0.5\n",
    "    rndx *= cols * 0.06   # this coefficient determines the degree of warping\n",
    "    rndy = np.random.rand(3) - 0.5\n",
    "    rndy *= rows * 0.06\n",
    "    # 3 starting points for transform, 1/4 way from edges\n",
    "    x1 = cols/4\n",
    "    x2 = 3*cols/4\n",
    "    y1 = rows/4\n",
    "    y2 = 3*rows/4\n",
    "    end_pts = np.float32([[y1,x1],\n",
    "                       [y2,x1],\n",
    "                       [y1,x2]])\n",
    "    start_pts = np.float32([[y1+rndy[0],x1+rndx[0]],\n",
    "                       [y2+rndy[1],x1+rndx[1]],\n",
    "                       [y1+rndy[2],x2+rndx[2]]])\n",
    "    Mask = cv2.getAffineTransform(end_pts,start_pts)\n",
    "    warm_img = cv2.warpAffine(img,Mask,(cols,rows))\n",
    "    warm_img = warm_img[:,:,np.newaxis]\n",
    "    return warm_img"
   ]
  },
  {
   "cell_type": "code",
   "execution_count": 7,
   "metadata": {
    "collapsed": true
   },
   "outputs": [],
   "source": [
    "def random_brightness(img):\n",
    "    shifted = img + 1.0   # shift to (0,2) range\n",
    "    img_max_value = max(shifted.flatten())\n",
    "    max_coef = 2.0/img_max_value\n",
    "    min_coef = max_coef - 0.1\n",
    "    coef = np.random.uniform(min_coef, max_coef)\n",
    "    brig_img = shifted * coef - 1.0\n",
    "    return brig_img"
   ]
  },
  {
   "cell_type": "code",
   "execution_count": 8,
   "metadata": {
    "collapsed": false,
    "scrolled": true
   },
   "outputs": [
    {
     "name": "stdout",
     "output_type": "stream",
     "text": [
      "(34799, 32, 32, 1) (34799,)\n",
      "On class number 0\n",
      "On class number 1\n",
      "On class number 2\n",
      "On class number 3\n",
      "On class number 4\n",
      "On class number 5\n",
      "On class number 6\n",
      "On class number 7\n",
      "On class number 8\n",
      "On class number 9\n",
      "On class number 10\n",
      "On class number 11\n",
      "On class number 12\n",
      "On class number 13\n",
      "On class number 14\n",
      "On class number 15\n",
      "On class number 16\n",
      "On class number 17\n",
      "On class number 18\n",
      "On class number 19\n",
      "On class number 20\n",
      "On class number 21\n",
      "On class number 22\n",
      "On class number 23\n",
      "On class number 24\n",
      "On class number 25\n",
      "On class number 26\n",
      "On class number 27\n",
      "On class number 28\n",
      "On class number 29\n",
      "On class number 30\n",
      "On class number 31\n",
      "On class number 32\n",
      "On class number 33\n",
      "On class number 34\n",
      "On class number 35\n",
      "On class number 36\n",
      "On class number 37\n",
      "On class number 38\n",
      "On class number 39\n",
      "On class number 40\n",
      "On class number 41\n",
      "On class number 42\n",
      "(51690, 32, 32, 1) (51690,)\n"
     ]
    }
   ],
   "source": [
    "### Preprocess the data here. It is required to normalize the data. Other preprocessing steps could include \n",
    "### converting to grayscale, etc.\n",
    "### Feel free to use as many code cells as needed.\n",
    "from sklearn.utils import shuffle\n",
    "from sklearn.preprocessing import normalize\n",
    "\n",
    "\n",
    "#Convert to grayscale\n",
    "X_train = np.sum(X_train_in/3, axis=3, keepdims=True)\n",
    "X_valid = np.sum(X_valid_in/3, axis=3, keepdims=True)\n",
    "X_test = np.sum(X_test_in/3, axis=3, keepdims=True)\n",
    "\n",
    "#Normalize the data\n",
    "X_train = (X_train-128.0)/128.0\n",
    "X_valid = (X_valid-128.0)/128.0\n",
    "X_test = (X_test-128.0)/128.0\n",
    "\n",
    "\n",
    "#Augment data\n",
    "print(X_train.shape, y_train.shape)\n",
    "for class_n in range(n_classes):\n",
    "    print('On class number', class_n)\n",
    "    class_indices = np.where(y_train == class_n)\n",
    "    n_samples = len(class_indices[0])\n",
    "    if n_samples < 1000:\n",
    "        for i in range(1000 - n_samples):\n",
    "            new_img = X_train[class_indices[0][i % n_samples]]\n",
    "            new_img = random_translate(random_scaling(random_warp(random_brightness(new_img))))\n",
    "            X_train = np.concatenate((X_train, [new_img]), axis=0)\n",
    "            y_train = np.concatenate((y_train, [class_n]), axis=0)\n",
    "\n",
    "print(X_train.shape, y_train.shape)\n",
    "X_train, y_train = shuffle(X_train, y_train)\n"
   ]
  },
  {
   "cell_type": "code",
   "execution_count": 11,
   "metadata": {
    "collapsed": false
   },
   "outputs": [],
   "source": [
    "aug_training_file = 'traffic-signs-data/train_aug.p'\n",
    "\n",
    "train_aug = {}\n",
    "train_aug['features'] = X_train\n",
    "train_aug['labels'] = y_train\n",
    "\n",
    "with open(aug_training_file, 'wb') as handle:\n",
    "    pickle.dump(train_aug, handle, protocol=pickle.HIGHEST_PROTOCOL)"
   ]
  },
  {
   "cell_type": "markdown",
   "metadata": {},
   "source": [
    "### Model Architecture"
   ]
  },
  {
   "cell_type": "code",
   "execution_count": 17,
   "metadata": {
    "collapsed": false
   },
   "outputs": [],
   "source": [
    "import tensorflow as tf\n",
    "from tensorflow.contrib.layers import flatten\n",
    "\n",
    "EPOCHS = 50\n",
    "BATCH_SIZE = 128\n",
    "\n",
    "rate = 0.001\n",
    "mu = 0\n",
    "sigma = 0.1\n",
    "reg_weight =1e-3\n",
    "\n",
    "### Define your architecture here.\n",
    "### Feel free to use as many code cells as needed.\n",
    "features = tf.placeholder(tf.float32, (None, 32, 32, 1))\n",
    "labels = tf.placeholder(tf.int32, (None))\n",
    "one_hot_y = tf.one_hot(labels, 43)\n",
    "\n",
    "#Layer 0: Transform color map\n",
    "#Convolutional. Input = 32x32x3. Output = 32x32x3.\n",
    "#conv0_W = tf.Variable(tf.truncated_normal(shape=(1, 1, 3, 3), mean = mu, stddev = sigma))\n",
    "#conv0_b = tf.Variable(tf.zeros(3))\n",
    "#conv0_out = tf.nn.conv2d(features, conv0_W, strides=[1, 1, 1, 1], padding='VALID')\n",
    "#conv0_out = tf.nn.bias_add(conv0_out, conv0_b)\n",
    "\n",
    "#Layer 1:Blow up the features\n",
    "# Convolutional. Input = 32x32x1. Output = 28x28x6.\n",
    "conv1_W = tf.Variable(tf.truncated_normal(shape=(5, 5, 1, 6), mean = mu, stddev = sigma))\n",
    "conv1_b = tf.Variable(tf.zeros(6))\n",
    "conv1_out = tf.nn.conv2d(features, conv1_W, strides=[1, 1, 1, 1], padding='VALID')\n",
    "conv1_out = tf.nn.bias_add(conv1_out, conv1_b)\n",
    "#Activation.\n",
    "conv1_out = tf.nn.relu(conv1_out)\n",
    "#Pooling. Input = 28x28x6. Output = 14x14x6.\n",
    "conv1_out = tf.nn.max_pool(conv1_out,[1,2,2,1],[1,2,2,1],padding = 'VALID')\n",
    "\n",
    "#Layer 2:Blow up the features more\n",
    "#Convolutional.Input = 14x14x6. Output = 10x10x16.\n",
    "conv2_W = tf.Variable(tf.truncated_normal(shape=(5, 5, 6, 16), mean = mu, stddev = sigma))\n",
    "conv2_b = tf.Variable(tf.zeros(16))\n",
    "conv2_out = tf.nn.conv2d(conv1_out, conv2_W, strides=[1, 1, 1, 1], padding='VALID')\n",
    "conv2_out = tf.nn.bias_add(conv2_out, conv2_b)\n",
    "# Activation.\n",
    "conv2_out = tf.nn.relu(conv2_out)\n",
    "# Pooling. Input =  10x10x16. Output =  5x5x16.\n",
    "conv2_out = tf.nn.max_pool(conv2_out,[1,2,2,1],[1,2,2,1],padding = 'VALID')\n",
    "\n",
    "#Layer 3:Blow up the features more\n",
    "#Convolutional.Input = 7x7x64. Output = 1x1x400.\n",
    "conv3_W = tf.Variable(tf.truncated_normal(shape=(5, 5, 16, 400), mean = mu, stddev = sigma))\n",
    "conv3_b = tf.Variable(tf.zeros(400))\n",
    "conv3_out = tf.nn.conv2d(conv2_out, conv3_W, strides=[1, 1, 1, 1], padding='VALID')\n",
    "conv3_out = tf.nn.bias_add(conv3_out, conv3_b)\n",
    "#Activation.\n",
    "conv3_out = tf.nn.relu(conv3_out)\n",
    "\n",
    "#Flatten layers\n",
    "#Flatten layer 1. Input = 14x14x6, output = 1176\n",
    "flat_l1 = tf.reshape(conv1_out,[-1,1176])\n",
    "#Faltten layer 2. Input = 5x5x16, output = 400\n",
    "flat_l2 = tf.reshape(conv2_out,[-1,400])\n",
    "# Flatten.  layer 3. Input = 1x1x400. Output = 400.\n",
    "flat_l3 = tf.reshape(conv3_out,[-1,400])\n",
    "#combined flatten image = 1176 + 400 + 400 = 1976\n",
    "#flat_layer = tf.concat([flat_l1, flat_l2, flat_l3],1)\n",
    "\n",
    "#combined flatten image = 400 + 400 = 800\n",
    "flat_layer = tf.concat([flat_l2, flat_l3],1)\n",
    "# Regularization\n",
    "flat_layer = tf.nn.dropout(flat_layer,0.5)\n",
    "\n",
    "#Layer 4: Fully Connected. Input = 1976. Output = 1024.\n",
    "#fc1_W = tf.Variable(tf.truncated_normal(shape=(1976, 1024), mean = mu, stddev = sigma))\n",
    "#fc1_b = tf.Variable(tf.zeros(1024))\n",
    "#fc1_output   = tf.matmul(flat_layer, fc1_W) + fc1_b\n",
    "#Activation.\n",
    "#fc1_output = tf.nn.relu(fc1_output)\n",
    "# Regularization\n",
    "#fc1_output = tf.nn.dropout(fc1_output,0.5)\n",
    "\n",
    "#Layer 4: Fully Connected. Input = 800. Output = 512.\n",
    "fc2_W = tf.Variable(tf.truncated_normal(shape=(800, 512), mean = mu, stddev = sigma))\n",
    "fc2_b = tf.Variable(tf.zeros(512))\n",
    "fc2_output = tf.matmul(flat_layer, fc2_W) + fc2_b\n",
    "#Activation.\n",
    "fc2_output = tf.nn.relu(fc2_output)\n",
    "# Regularization\n",
    "fc2_output = tf.nn.dropout(fc2_output,0.5)\n",
    "\n",
    "#Layer 5: Fully Connected. Input = 800. Output = 43.\n",
    "fc3_W = tf.Variable(tf.truncated_normal(shape=(800, 43), mean = mu, stddev = sigma))\n",
    "fc3_b = tf.Variable(tf.zeros(43))\n",
    "fc3_output   = tf.matmul(flat_layer, fc3_W) + fc3_b\n",
    "\n",
    "logits = fc3_output"
   ]
  },
  {
   "cell_type": "markdown",
   "metadata": {},
   "source": [
    "### Train, Validate and Test the Model"
   ]
  },
  {
   "cell_type": "markdown",
   "metadata": {},
   "source": [
    "A validation set can be used to assess how well the model is performing. A low accuracy on the training and validation\n",
    "sets imply underfitting. A high accuracy on the training set but low accuracy on the validation set implies overfitting."
   ]
  },
  {
   "cell_type": "code",
   "execution_count": 29,
   "metadata": {
    "collapsed": false
   },
   "outputs": [],
   "source": [
    "### Train your model here.\n",
    "### Calculate and report the accuracy on the training and validation set.\n",
    "### Once a final model architecture is selected, \n",
    "### the accuracy on the test set should be calculated and reported as well.\n",
    "### Feel free to use as many code cells as needed.\n",
    "\n",
    "#Define cross entropy as softmax_cross_entropy_with_logits\n",
    "cross_entropy = tf.nn.softmax_cross_entropy_with_logits(labels=one_hot_y, logits=logits)\n",
    "#Define regularization with l2 loss for weights for each layer\n",
    "regularization = (tf.nn.l2_loss(conv1_W) + tf.nn.l2_loss(conv2_W) + tf.nn.l2_loss(conv3_W) + tf.nn.l2_loss(fc2_W) + tf.nn.l2_loss(fc3_W))\n",
    "\n",
    "loss_operation = tf.reduce_mean(cross_entropy) + reg_weight*regularization\n",
    "\n",
    "optimizer = tf.train.AdamOptimizer(learning_rate = rate)\n",
    "training_operation = optimizer.minimize(loss_operation)\n",
    "prediction = (tf.argmax(logits, 1))\n",
    "correct_prediction = tf.equal(prediction, tf.argmax(one_hot_y, 1))\n",
    "accuracy_operation = tf.reduce_mean(tf.cast(correct_prediction, tf.float32))\n"
   ]
  },
  {
   "cell_type": "code",
   "execution_count": 30,
   "metadata": {
    "collapsed": true
   },
   "outputs": [],
   "source": [
    "saver = tf.train.Saver()\n",
    "\n",
    "def evaluate(X_data, y_data):\n",
    "    num_examples = len(X_data)\n",
    "    total_accuracy = 0\n",
    "    sess = tf.get_default_session()\n",
    "    for offset in range(0, num_examples, BATCH_SIZE):\n",
    "        batch_x, batch_y = X_data[offset:offset+BATCH_SIZE], y_data[offset:offset+BATCH_SIZE]\n",
    "        accuracy = sess.run(accuracy_operation, feed_dict={features: batch_x, labels: batch_y})\n",
    "        total_accuracy += (accuracy * len(batch_x))\n",
    "    return total_accuracy / num_examples"
   ]
  },
  {
   "cell_type": "code",
   "execution_count": 31,
   "metadata": {
    "collapsed": false,
    "scrolled": false
   },
   "outputs": [
    {
     "name": "stdout",
     "output_type": "stream",
     "text": [
      "Training...\n",
      "\n",
      "EPOCH 1 ...\n",
      "Training Accuracy = 0.832\n",
      "Validation Accuracy = 0.785\n",
      "\n",
      "EPOCH 2 ...\n",
      "Training Accuracy = 0.917\n",
      "Validation Accuracy = 0.868\n",
      "\n",
      "EPOCH 3 ...\n",
      "Training Accuracy = 0.948\n",
      "Validation Accuracy = 0.900\n",
      "\n",
      "EPOCH 4 ...\n",
      "Training Accuracy = 0.954\n",
      "Validation Accuracy = 0.903\n",
      "Model saved with vaidation acc of  0.903174603499\n",
      "\n",
      "EPOCH 5 ...\n",
      "Training Accuracy = 0.961\n",
      "Validation Accuracy = 0.911\n",
      "Model saved with vaidation acc of  0.911337868751\n",
      "\n",
      "EPOCH 6 ...\n",
      "Training Accuracy = 0.969\n",
      "Validation Accuracy = 0.915\n",
      "Model saved with vaidation acc of  0.914965986422\n",
      "\n",
      "EPOCH 7 ...\n",
      "Training Accuracy = 0.975\n",
      "Validation Accuracy = 0.918\n",
      "Model saved with vaidation acc of  0.918367346966\n",
      "\n",
      "EPOCH 8 ...\n",
      "Training Accuracy = 0.973\n",
      "Validation Accuracy = 0.918\n",
      "\n",
      "EPOCH 9 ...\n",
      "Training Accuracy = 0.977\n",
      "Validation Accuracy = 0.916\n",
      "\n",
      "EPOCH 10 ...\n",
      "Training Accuracy = 0.977\n",
      "Validation Accuracy = 0.915\n",
      "\n",
      "EPOCH 11 ...\n",
      "Training Accuracy = 0.977\n",
      "Validation Accuracy = 0.922\n",
      "Model saved with vaidation acc of  0.92222222252\n",
      "\n",
      "EPOCH 12 ...\n",
      "Training Accuracy = 0.979\n",
      "Validation Accuracy = 0.929\n",
      "Model saved with vaidation acc of  0.929024943067\n",
      "\n",
      "EPOCH 13 ...\n",
      "Training Accuracy = 0.980\n",
      "Validation Accuracy = 0.933\n",
      "Model saved with vaidation acc of  0.933333333333\n",
      "\n",
      "EPOCH 14 ...\n",
      "Training Accuracy = 0.979\n",
      "Validation Accuracy = 0.916\n",
      "\n",
      "EPOCH 15 ...\n",
      "Training Accuracy = 0.982\n",
      "Validation Accuracy = 0.928\n",
      "\n",
      "EPOCH 16 ...\n",
      "Training Accuracy = 0.984\n",
      "Validation Accuracy = 0.928\n",
      "\n",
      "EPOCH 17 ...\n",
      "Training Accuracy = 0.983\n",
      "Validation Accuracy = 0.931\n",
      "\n",
      "EPOCH 18 ...\n",
      "Training Accuracy = 0.981\n",
      "Validation Accuracy = 0.925\n",
      "\n",
      "EPOCH 19 ...\n",
      "Training Accuracy = 0.985\n",
      "Validation Accuracy = 0.937\n",
      "Model saved with vaidation acc of  0.937188208373\n",
      "\n",
      "EPOCH 20 ...\n",
      "Training Accuracy = 0.984\n",
      "Validation Accuracy = 0.929\n",
      "\n",
      "EPOCH 21 ...\n",
      "Training Accuracy = 0.986\n",
      "Validation Accuracy = 0.940\n",
      "Model saved with vaidation acc of  0.940136054692\n",
      "\n",
      "EPOCH 22 ...\n",
      "Training Accuracy = 0.986\n",
      "Validation Accuracy = 0.939\n",
      "\n",
      "EPOCH 23 ...\n",
      "Training Accuracy = 0.984\n",
      "Validation Accuracy = 0.929\n",
      "\n",
      "EPOCH 24 ...\n",
      "Training Accuracy = 0.986\n",
      "Validation Accuracy = 0.935\n",
      "\n",
      "EPOCH 25 ...\n",
      "Training Accuracy = 0.980\n",
      "Validation Accuracy = 0.926\n",
      "\n",
      "EPOCH 26 ...\n",
      "Training Accuracy = 0.988\n",
      "Validation Accuracy = 0.936\n",
      "\n",
      "EPOCH 27 ...\n",
      "Training Accuracy = 0.987\n",
      "Validation Accuracy = 0.937\n",
      "\n",
      "EPOCH 28 ...\n",
      "Training Accuracy = 0.986\n",
      "Validation Accuracy = 0.939\n",
      "\n",
      "EPOCH 29 ...\n",
      "Training Accuracy = 0.987\n",
      "Validation Accuracy = 0.941\n",
      "Model saved with vaidation acc of  0.940816326801\n",
      "\n",
      "EPOCH 30 ...\n",
      "Training Accuracy = 0.988\n",
      "Validation Accuracy = 0.940\n",
      "\n",
      "EPOCH 31 ...\n",
      "Training Accuracy = 0.988\n",
      "Validation Accuracy = 0.941\n",
      "\n",
      "EPOCH 32 ...\n",
      "Training Accuracy = 0.986\n",
      "Validation Accuracy = 0.939\n",
      "\n",
      "EPOCH 33 ...\n",
      "Training Accuracy = 0.988\n",
      "Validation Accuracy = 0.947\n",
      "Model saved with vaidation acc of  0.94716553288\n",
      "\n",
      "EPOCH 34 ...\n",
      "Training Accuracy = 0.986\n",
      "Validation Accuracy = 0.942\n",
      "\n",
      "EPOCH 35 ...\n",
      "Training Accuracy = 0.988\n",
      "Validation Accuracy = 0.942\n",
      "\n",
      "EPOCH 36 ...\n",
      "Training Accuracy = 0.987\n",
      "Validation Accuracy = 0.936\n",
      "\n",
      "EPOCH 37 ...\n",
      "Training Accuracy = 0.989\n",
      "Validation Accuracy = 0.943\n",
      "\n",
      "EPOCH 38 ...\n",
      "Training Accuracy = 0.988\n",
      "Validation Accuracy = 0.946\n",
      "\n",
      "EPOCH 39 ...\n",
      "Training Accuracy = 0.988\n",
      "Validation Accuracy = 0.930\n",
      "\n",
      "EPOCH 40 ...\n",
      "Training Accuracy = 0.989\n",
      "Validation Accuracy = 0.944\n",
      "\n",
      "EPOCH 41 ...\n",
      "Training Accuracy = 0.987\n",
      "Validation Accuracy = 0.942\n",
      "\n",
      "EPOCH 42 ...\n",
      "Training Accuracy = 0.987\n",
      "Validation Accuracy = 0.942\n",
      "\n",
      "EPOCH 43 ...\n",
      "Training Accuracy = 0.987\n",
      "Validation Accuracy = 0.942\n",
      "\n",
      "EPOCH 44 ...\n",
      "Training Accuracy = 0.988\n",
      "Validation Accuracy = 0.948\n",
      "Model saved with vaidation acc of  0.947619047619\n",
      "\n",
      "EPOCH 45 ...\n",
      "Training Accuracy = 0.989\n",
      "Validation Accuracy = 0.950\n",
      "Model saved with vaidation acc of  0.949886621315\n",
      "\n",
      "EPOCH 46 ...\n",
      "Training Accuracy = 0.989\n",
      "Validation Accuracy = 0.943\n",
      "\n",
      "EPOCH 47 ...\n",
      "Training Accuracy = 0.988\n",
      "Validation Accuracy = 0.943\n",
      "\n",
      "EPOCH 48 ...\n",
      "Training Accuracy = 0.987\n",
      "Validation Accuracy = 0.936\n",
      "\n",
      "EPOCH 49 ...\n",
      "Training Accuracy = 0.987\n",
      "Validation Accuracy = 0.947\n",
      "\n",
      "EPOCH 50 ...\n",
      "Training Accuracy = 0.987\n",
      "Validation Accuracy = 0.939\n",
      "\n"
     ]
    }
   ],
   "source": [
    "with tf.Session() as sess:\n",
    "    sess.run(tf.global_variables_initializer())\n",
    "    num_examples = len(X_train)\n",
    "    \n",
    "    print(\"Training...\")\n",
    "    print()\n",
    "    current_val_acc = 0.9\n",
    "    for i in range(EPOCHS):\n",
    "        X_train, y_train = shuffle(X_train, y_train)\n",
    "        for offset in range(0, num_examples, BATCH_SIZE):\n",
    "            end = offset + BATCH_SIZE\n",
    "            batch_x, batch_y = X_train[offset:end], y_train[offset:end]\n",
    "            sess.run(training_operation, feed_dict={features: batch_x, labels: batch_y})\n",
    "            \n",
    "        training_accuracy = evaluate(X_train, y_train)\n",
    "        validation_accuracy = evaluate(X_valid, y_valid)\n",
    "        print(\"EPOCH {} ...\".format(i+1))\n",
    "        print(\"Training Accuracy = {:.3f}\".format(training_accuracy))\n",
    "        print(\"Validation Accuracy = {:.3f}\".format(validation_accuracy))\n",
    "        \n",
    "        if current_val_acc < validation_accuracy:\n",
    "            current_val_acc = validation_accuracy\n",
    "            saver.save(sess, './lenet')\n",
    "            print(\"Model saved with vaidation acc of \",current_val_acc)\n",
    "        print()\n",
    "        \n",
    "    "
   ]
  },
  {
   "cell_type": "code",
   "execution_count": 32,
   "metadata": {
    "collapsed": false
   },
   "outputs": [
    {
     "name": "stdout",
     "output_type": "stream",
     "text": [
      "INFO:tensorflow:Restoring parameters from .\\lenet\n",
      "Test Accuracy = 0.923\n"
     ]
    }
   ],
   "source": [
    "with tf.Session() as sess:\n",
    "    saver.restore(sess, tf.train.latest_checkpoint('.'))\n",
    "\n",
    "    test_accuracy = evaluate(X_test, y_test)\n",
    "    print(\"Test Accuracy = {:.3f}\".format(test_accuracy))"
   ]
  },
  {
   "cell_type": "markdown",
   "metadata": {},
   "source": [
    "---\n",
    "\n",
    "## Step 3: Test a Model on New Images\n",
    "\n",
    "To give yourself more insight into how your model is working, download at least five pictures of German traffic signs from the web and use your model to predict the traffic sign type.\n",
    "\n",
    "You may find `signnames.csv` useful as it contains mappings from the class id (integer) to the actual sign name."
   ]
  },
  {
   "cell_type": "markdown",
   "metadata": {},
   "source": [
    "### Load and Output the Images"
   ]
  },
  {
   "cell_type": "code",
   "execution_count": 35,
   "metadata": {
    "collapsed": false
   },
   "outputs": [
    {
     "name": "stdout",
     "output_type": "stream",
     "text": [
      "(5, 32, 32, 3)\n"
     ]
    },
    {
     "data": {
      "text/plain": [
       "<matplotlib.image.AxesImage at 0x1ff44c18>"
      ]
     },
     "execution_count": 35,
     "metadata": {},
     "output_type": "execute_result"
    },
    {
     "data": {
      "image/png": "[encoded data removed]",
      "text/plain": [
       "<matplotlib.figure.Figure at 0x1c768390>"
      ]
     },
     "metadata": {},
     "output_type": "display_data"
    }
   ],
   "source": [
    "### Load the images and plot them here.\n",
    "### Feel free to use as many code cells as needed.\n",
    "\n",
    "from scipy import misc\n",
    "\n",
    "web_test_data = np.empty([5,32,32,3]).astype('uint8')\n",
    "web_test_data[0,:,:,:] = misc.imresize(misc.imread(\"traffic-signs-images-web/ImageCropped1.png\"),[32,32])\n",
    "web_test_data[1,:,:,:] = misc.imresize(misc.imread(\"traffic-signs-images-web/ImageCropped2.png\"),[32,32])\n",
    "web_test_data[2,:,:,:] = misc.imresize(misc.imread(\"traffic-signs-images-web/ImageCropped3.png\"),[32,32])\n",
    "web_test_data[3,:,:,:] = misc.imresize(misc.imread(\"traffic-signs-images-web/ImageCropped4.png\"),[32,32])\n",
    "web_test_data[4,:,:,:] = misc.imresize(misc.imread(\"traffic-signs-images-web/ImageCropped5.png\"),[32,32])\n",
    "\n",
    "print(web_test_data.shape)\n",
    "plt.figure(figsize=(1,1))\n",
    "plt.imshow(web_test_data[4,:,:,:])\n",
    "\n"
   ]
  },
  {
   "cell_type": "markdown",
   "metadata": {},
   "source": [
    "### Predict the Sign Type for Each Image"
   ]
  },
  {
   "cell_type": "code",
   "execution_count": 36,
   "metadata": {
    "collapsed": false
   },
   "outputs": [
    {
     "name": "stdout",
     "output_type": "stream",
     "text": [
      "INFO:tensorflow:Restoring parameters from .\\lenet\n",
      "[28  1 18 28  8]\n"
     ]
    },
    {
     "data": {
      "image/png": "[encoded data removed]",
      "text/plain": [
       "<matplotlib.figure.Figure at 0x4f2ee80>"
      ]
     },
     "metadata": {},
     "output_type": "display_data"
    },
    {
     "data": {
      "image/png": "[encoded data removed]",
      "text/plain": [
       "<matplotlib.figure.Figure at 0x305e6b70>"
      ]
     },
     "metadata": {},
     "output_type": "display_data"
    },
    {
     "data": {
      "image/png": "[encoded data removed]",
      "text/plain": [
       "<matplotlib.figure.Figure at 0x30688550>"
      ]
     },
     "metadata": {},
     "output_type": "display_data"
    },
    {
     "data": {
      "image/png": "[encoded data removed]",
      "text/plain": [
       "<matplotlib.figure.Figure at 0x2f1445c0>"
      ]
     },
     "metadata": {},
     "output_type": "display_data"
    },
    {
     "data": {
      "image/png": "[encoded data removed]",
      "text/plain": [
       "<matplotlib.figure.Figure at 0x30769ba8>"
      ]
     },
     "metadata": {},
     "output_type": "display_data"
    }
   ],
   "source": [
    "### Run the predictions here and use the model to output the prediction for each image.\n",
    "### Make sure to pre-process the images with the same pre-processing pipeline used earlier.\n",
    "### Feel free to use as many code cells as needed.\n",
    "\n",
    "#Convert to grayscale\n",
    "web_test_data_norm = np.sum(web_test_data/3, axis=3, keepdims=True)\n",
    "\n",
    "web_test_data_norm = (web_test_data_norm-128.0)/128.0\n",
    "web_test_data_norm = web_test_data_norm.astype('float32')\n",
    "\n",
    "with tf.Session() as sess:\n",
    "    saver.restore(sess, tf.train.latest_checkpoint('.'))\n",
    "    prob = sess.run(logits, feed_dict={features: web_test_data_norm})   \n",
    "\n",
    "data=pd.read_csv('signnames.csv')\n",
    "index_class = np.argmax(prob, 1)\n",
    "print(index_class)\n",
    "\n",
    "for i in range(0,5):\n",
    "    plt.figure(figsize=(1,1))\n",
    "    plt.imshow(web_test_data[i,:,:,:])\n",
    "    plt.xlabel(data[data['ClassId'] == index_class[i]])"
   ]
  },
  {
   "cell_type": "markdown",
   "metadata": {},
   "source": [
    "### Analyze Performance"
   ]
  },
  {
   "cell_type": "code",
   "execution_count": 37,
   "metadata": {
    "collapsed": false
   },
   "outputs": [
    {
     "name": "stdout",
     "output_type": "stream",
     "text": [
      "Accuracy is  80.0 percent\n"
     ]
    }
   ],
   "source": [
    "### Calculate the accuracy for these 5 new images. \n",
    "### For example, if the model predicted 1 out of 5 signs correctly, it's 20% accurate on these new images.\n",
    "web_test_labels = [28,1,18,28,9]\n",
    "correct_prediction = web_test_labels == index_class\n",
    "accuracy = sum(correct_prediction == True)/len(correct_prediction)\n",
    "print('Accuracy is ', accuracy*100, 'percent')"
   ]
  },
  {
   "cell_type": "markdown",
   "metadata": {},
   "source": [
    "### Output Top 5 Softmax Probabilities For Each Image Found on the Web"
   ]
  },
  {
   "cell_type": "markdown",
   "metadata": {},
   "source": [
    "For each of the new images, print out the model's softmax probabilities to show the **certainty** of the model's predictions (limit the output to the top 5 probabilities for each image). [`tf.nn.top_k`](https://www.tensorflow.org/versions/r0.12/api_docs/python/nn.html#top_k) could prove helpful here. \n",
    "\n",
    "The example below demonstrates how tf.nn.top_k can be used to find the top k predictions for each image.\n",
    "\n",
    "`tf.nn.top_k` will return the values and indices (class ids) of the top k predictions. So if k=3, for each sign, it'll return the 3 largest probabilities (out of a possible 43) and the correspoding class ids.\n",
    "\n",
    "Take this numpy array as an example. The values in the array represent predictions. The array contains softmax probabilities for five candidate images with six possible classes. `tf.nn.top_k` is used to choose the three classes with the highest probability:\n",
    "\n",
    "```\n",
    "# (5, 6) array\n",
    "a = np.array([[ 0.24879643,  0.07032244,  0.12641572,  0.34763842,  0.07893497,\n",
    "         0.12789202],\n",
    "       [ 0.28086119,  0.27569815,  0.08594638,  0.0178669 ,  0.18063401,\n",
    "         0.15899337],\n",
    "       [ 0.26076848,  0.23664738,  0.08020603,  0.07001922,  0.1134371 ,\n",
    "         0.23892179],\n",
    "       [ 0.11943333,  0.29198961,  0.02605103,  0.26234032,  0.1351348 ,\n",
    "         0.16505091],\n",
    "       [ 0.09561176,  0.34396535,  0.0643941 ,  0.16240774,  0.24206137,\n",
    "         0.09155967]])\n",
    "```\n",
    "\n",
    "Running it through `sess.run(tf.nn.top_k(tf.constant(a), k=3))` produces:\n",
    "\n",
    "```\n",
    "TopKV2(values=array([[ 0.34763842,  0.24879643,  0.12789202],\n",
    "       [ 0.28086119,  0.27569815,  0.18063401],\n",
    "       [ 0.26076848,  0.23892179,  0.23664738],\n",
    "       [ 0.29198961,  0.26234032,  0.16505091],\n",
    "       [ 0.34396535,  0.24206137,  0.16240774]]), indices=array([[3, 0, 5],\n",
    "       [0, 1, 4],\n",
    "       [0, 5, 1],\n",
    "       [1, 3, 5],\n",
    "       [1, 4, 3]], dtype=int32))\n",
    "```\n",
    "\n",
    "Looking just at the first row we get `[ 0.34763842,  0.24879643,  0.12789202]`, you can confirm these are the 3 largest probabilities in `a`. You'll also notice `[3, 0, 5]` are the corresponding indices."
   ]
  },
  {
   "cell_type": "code",
   "execution_count": 39,
   "metadata": {
    "collapsed": false
   },
   "outputs": [
    {
     "name": "stdout",
     "output_type": "stream",
     "text": [
      "INFO:tensorflow:Restoring parameters from .\\lenet\n",
      "[[ 20.42909241  15.33096313  14.12249088  12.94852066  11.2159462 ]\n",
      " [ 21.5443573   14.67945004  11.86881447   8.11833668   7.61639357]\n",
      " [ 50.13275528  29.0676918   28.64053726  22.40203667  17.85379982]\n",
      " [ 28.52192307  24.15724182  23.76180458  22.14665794  17.86513519]\n",
      " [  7.35824251   5.83307695   5.79292202   5.75470924   5.7445178 ]]\n"
     ]
    }
   ],
   "source": [
    "### Print out the top five softmax probabilities for the predictions on the German traffic sign images found on the web. \n",
    "### Feel free to use as many code cells as needed.\n",
    "\n",
    "top_five_prob = tf.nn.top_k(logits,k=5)\n",
    "with tf.Session() as sess:\n",
    "    saver.restore(sess, tf.train.latest_checkpoint('.'))\n",
    "    prob = sess.run(top_five_prob, feed_dict={features: web_test_data_norm})   \n",
    "    \n",
    "print(prob.values)"
   ]
  },
  {
   "cell_type": "markdown",
   "metadata": {},
   "source": [
    "### Project Writeup\n",
    "\n",
    "Once you have completed the code implementation, document your results in a project writeup using this [template](https://github.com/udacity/CarND-Traffic-Sign-Classifier-Project/blob/master/writeup_template.md) as a guide. The writeup can be in a markdown or pdf file. "
   ]
  },
  {
   "cell_type": "markdown",
   "metadata": {},
   "source": [
    "> **Note**: Once you have completed all of the code implementations and successfully answered each question above, you may finalize your work by exporting the iPython Notebook as an HTML document. You can do this by using the menu above and navigating to  \\n\",\n",
    "    \"**File -> Download as -> HTML (.html)**. Include the finished document along with this notebook as your submission."
   ]
  },
  {
   "cell_type": "markdown",
   "metadata": {},
   "source": [
    "---\n",
    "\n",
    "## Step 4 (Optional): Visualize the Neural Network's State with Test Images\n",
    "\n",
    " This Section is not required to complete but acts as an additional excersise for understaning the output of a neural network's weights. While neural networks can be a great learning device they are often referred to as a black box. We can understand what the weights of a neural network look like better by plotting their feature maps. After successfully training your neural network you can see what it's feature maps look like by plotting the output of the network's weight layers in response to a test stimuli image. From these plotted feature maps, it's possible to see what characteristics of an image the network finds interesting. For a sign, maybe the inner network feature maps react with high activation to the sign's boundary outline or to the contrast in the sign's painted symbol.\n",
    "\n",
    " Provided for you below is the function code that allows you to get the visualization output of any tensorflow weight layer you want. The inputs to the function should be a stimuli image, one used during training or a new one you provided, and then the tensorflow variable name that represents the layer's state during the training process, for instance if you wanted to see what the [LeNet lab's](https://classroom.udacity.com/nanodegrees/nd013/parts/fbf77062-5703-404e-b60c-95b78b2f3f9e/modules/6df7ae49-c61c-4bb2-a23e-6527e69209ec/lessons/601ae704-1035-4287-8b11-e2c2716217ad/concepts/d4aca031-508f-4e0b-b493-e7b706120f81) feature maps looked like for it's second convolutional layer you could enter conv2 as the tf_activation variable.\n",
    "\n",
    "For an example of what feature map outputs look like, check out NVIDIA's results in their paper [End-to-End Deep Learning for Self-Driving Cars](https://devblogs.nvidia.com/parallelforall/deep-learning-self-driving-cars/) in the section Visualization of internal CNN State. NVIDIA was able to show that their network's inner weights had high activations to road boundary lines by comparing feature maps from an image with a clear path to one without. Try experimenting with a similar test to show that your trained network's weights are looking for interesting features, whether it's looking at differences in feature maps from images with or without a sign, or even what feature maps look like in a trained network vs a completely untrained one on the same sign image.\n",
    "\n",
    "<figure>\n",
    " <img src=\"visualize_cnn.png\" width=\"380\" alt=\"Combined Image\" />\n",
    " <figcaption>\n",
    " <p></p> \n",
    " <p style=\"text-align: center;\"> Your output should look something like this (above)</p> \n",
    " </figcaption>\n",
    "</figure>\n",
    " <p></p> \n"
   ]
  },
  {
   "cell_type": "code",
   "execution_count": 25,
   "metadata": {
    "collapsed": true
   },
   "outputs": [],
   "source": [
    "### Visualize your network's feature maps here.\n",
    "### Feel free to use as many code cells as needed.\n",
    "\n",
    "# image_input: the test image being fed into the network to produce the feature maps\n",
    "# tf_activation: should be a tf variable name used during your training procedure that represents the calculated state of a specific weight layer\n",
    "# activation_min/max: can be used to view the activation contrast in more detail, by default matplot sets min and max to the actual min and max values of the output\n",
    "# plt_num: used to plot out multiple different weight feature map sets on the same block, just extend the plt number for each new feature map entry\n",
    "\n",
    "def outputFeatureMap(image_input, tf_activation, activation_min=-1, activation_max=-1 ,plt_num=1):\n",
    "    # Here make sure to preprocess your image_input in a way your network expects\n",
    "    # with size, normalization, ect if needed\n",
    "    # image_input =\n",
    "    # Note: x should be the same name as your network's tensorflow data placeholder variable\n",
    "    # If you get an error tf_activation is not defined it may be having trouble accessing the variable from inside a function\n",
    "    activation = tf_activation.eval(session=sess,feed_dict={x : image_input})\n",
    "    featuremaps = activation.shape[3]\n",
    "    plt.figure(plt_num, figsize=(15,15))\n",
    "    for featuremap in range(featuremaps):\n",
    "        plt.subplot(6,8, featuremap+1) # sets the number of feature maps to show on each row and column\n",
    "        plt.title('FeatureMap ' + str(featuremap)) # displays the feature map number\n",
    "        if activation_min != -1 & activation_max != -1:\n",
    "            plt.imshow(activation[0,:,:, featuremap], interpolation=\"nearest\", vmin =activation_min, vmax=activation_max, cmap=\"gray\")\n",
    "        elif activation_max != -1:\n",
    "            plt.imshow(activation[0,:,:, featuremap], interpolation=\"nearest\", vmax=activation_max, cmap=\"gray\")\n",
    "        elif activation_min !=-1:\n",
    "            plt.imshow(activation[0,:,:, featuremap], interpolation=\"nearest\", vmin=activation_min, cmap=\"gray\")\n",
    "        else:\n",
    "            plt.imshow(activation[0,:,:, featuremap], interpolation=\"nearest\", cmap=\"gray\")"
   ]
  },
  {
   "cell_type": "code",
   "execution_count": null,
   "metadata": {
    "collapsed": true
   },
   "outputs": [],
   "source": []
  }
 ],
 "metadata": {
  "anaconda-cloud": {},
  "kernelspec": {
   "display_name": "Python 3",
   "language": "python",
   "name": "python3"
  },
  "language_info": {
   "codemirror_mode": {
    "name": "ipython",
    "version": 3
   },
   "file_extension": ".py",
   "mimetype": "text/x-python",
   "name": "python",
   "nbconvert_exporter": "python",
   "pygments_lexer": "ipython3",
   "version": "3.5.2"
  }
 },
 "nbformat": 4,
 "nbformat_minor": 1
}
